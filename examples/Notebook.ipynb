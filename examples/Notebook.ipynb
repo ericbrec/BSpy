{
 "cells": [
  {
   "cell_type": "code",
   "execution_count": 1,
   "metadata": {},
   "outputs": [],
   "source": [
    "import os, sys\n",
    "projectDir = os.path.abspath('..')\n",
    "if not projectDir in sys.path: sys.path.append(projectDir)\n",
    "import numpy as np\n",
    "from bspy import Spline, DrawableSpline, bspyGraphics\n",
    "\n",
    "bg = bspyGraphics(locals())"
   ]
  },
  {
   "cell_type": "code",
   "execution_count": 2,
   "metadata": {},
   "outputs": [],
   "source": [
    "points = []\n",
    "for u in np.linspace(0.0, 2.0 * np.pi, 21):\n",
    "    points.append((u, np.cos(u), np.sin(u)))\n",
    "spline = Spline.least_squares(1, 2, (4,), points)\n",
    "bg.draw(spline)\n",
    "confined = spline.confine(((-8.8, 8.8), (-8.8, 8.8)))\n",
    "bg.draw(confined)"
   ]
  },
  {
   "cell_type": "code",
   "execution_count": null,
   "metadata": {},
   "outputs": [],
   "source": [
    "spline1 = Spline(1, 1, (2,), (3,), ((-1.0, -1.0, 0.0, 1.0, 1.0),), (0.0, 1.0, 0.0))\n",
    "spline2 = Spline(1, 1, (4,), (7,), ((-1.0, -1.0, -1.0, -1.0, 0.0, 0.0, 0.0, 1.0, 1.0, 1.0, 1.0),), (0.0, 0.0, 1.0, 1.0, 1.0, 0.0, 0.0))\n",
    "convolution = spline1.convolve(spline2, [[0, 0]])\n",
    "bg.draw(spline1)\n",
    "bg.draw(spline2)\n",
    "bg.draw(convolution)"
   ]
  },
  {
   "cell_type": "code",
   "execution_count": null,
   "metadata": {},
   "outputs": [],
   "source": [
    "spline = 0.001 * Spline(1, 2, (4,), (6,), [np.array([0, 0, 0, 0.2, 0.3, 0.4, 0.5, 0.5, 1, 1], float)], \n",
    "    np.array(((260, 100), (100, 260), (260, 420), (420, 420), (580, 260), (420, 100)), float))\n",
    "extrapolated = spline.extrapolate([[-0.5, 1.5]], 2)\n",
    "bg.draw(spline)\n",
    "bg.show(extrapolated)"
   ]
  },
  {
   "cell_type": "code",
   "execution_count": null,
   "metadata": {},
   "outputs": [],
   "source": [
    "myCurve = Spline(1, 2, [4], [5], [[0,0,0,0,0.3,1,1,1,1]], [[0, 0], [0.3, 1],\n",
    "    [0.5, 0.0], [0.7, -0.5], [1, 1]])\n",
    "bg.draw(myCurve)"
   ]
  },
  {
   "cell_type": "code",
   "execution_count": null,
   "metadata": {},
   "outputs": [],
   "source": [
    "bg.erase_all()\n",
    "mySurface = Spline(2, 3, [3, 4], [4, 5], [[0,0,0,.5,1,1,1], [0,0,0,0,.5,1,1,1,1]],\n",
    "    [[0, 0, 0, 0, 0, .3, .3, .3, .3, .3, .7, .7, .7, .7, .7, 1, 1, 1, 1, 1],\n",
    "    [0, .25, .5, .75, 1, 0, .25, .5, .75, 1, 0, .25, .5, .75, 1, 0, .25, .5, .75, 1],\n",
    "    [0, 0, 0, 0, 0, 0, 1, 2, 1, 0, 0, 2, 1, 2, 0, 0, 0, 0, 0, 0]])\n",
    "bg.draw(mySurface)"
   ]
  },
  {
   "cell_type": "code",
   "execution_count": null,
   "metadata": {},
   "outputs": [],
   "source": [
    "bg.set_background_color(1., 0., 0.)\n"
   ]
  },
  {
   "cell_type": "code",
   "execution_count": null,
   "metadata": {},
   "outputs": [],
   "source": [
    "bg.empty()\n",
    "drawable = DrawableSpline(mySurface)\n",
    "bg.draw(drawable)\n",
    "drawable.set_fill_color(1., 1., 0.)\n",
    "bg.update()"
   ]
  }
 ],
 "metadata": {
  "interpreter": {
   "hash": "ee89ee271897de027553fbfe369681a9ef18f267a63e009eee6ae1ef648b5ddb"
  },
  "kernelspec": {
   "display_name": "Python 3.9.7 64-bit ('.venv': venv)",
   "language": "python",
   "name": "python3"
  },
  "language_info": {
   "codemirror_mode": {
    "name": "ipython",
    "version": 3
   },
   "file_extension": ".py",
   "mimetype": "text/x-python",
   "name": "python",
   "nbconvert_exporter": "python",
   "pygments_lexer": "ipython3",
   "version": "3.9.13"
  },
  "orig_nbformat": 4
 },
 "nbformat": 4,
 "nbformat_minor": 2
}
