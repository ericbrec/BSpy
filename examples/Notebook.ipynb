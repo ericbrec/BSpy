{
 "cells": [
  {
   "cell_type": "code",
   "execution_count": 4,
   "metadata": {},
   "outputs": [],
   "source": [
    "import os, sys\n",
    "projectDir = os.path.abspath('..')\n",
    "if not projectDir in sys.path: sys.path.append(projectDir)\n",
    "import numpy as np\n",
    "from bspy import Spline, bspyGraphics\n",
    "\n",
    "bg = bspyGraphics()"
   ]
  },
  {
   "cell_type": "code",
   "execution_count": 8,
   "metadata": {},
   "outputs": [],
   "source": [
    "myCurve = Spline(1, 2, [4], [5], [[0,0,0,0,0.3,1,1,1,1]], [[0, 0], [0.3, 1],\n",
    "    [0.5, 0.0], [0.7, -0.5], [1, 1]])\n",
    "bg.draw(myCurve)"
   ]
  },
  {
   "cell_type": "code",
   "execution_count": 9,
   "metadata": {},
   "outputs": [],
   "source": [
    "bg.erase_all()\n",
    "mySurface = Spline(2, 3, [3, 4], [4, 5], [[0,0,0,.5,1,1,1], [0,0,0,0,.5,1,1,1,1]],\n",
    "    [[0, 0, 0, 0, 0, .3, .3, .3, .3, .3, .7, .7, .7, .7, .7, 1, 1, 1, 1, 1],\n",
    "    [0, .25, .5, .75, 1, 0, .25, .5, .75, 1, 0, .25, .5, .75, 1, 0, .25, .5, .75, 1],\n",
    "    [0, 0, 0, 0, 0, 0, 1, 2, 1, 0, 0, 2, 1, 2, 0, 0, 0, 0, 0, 0]])\n",
    "bg.draw(mySurface)"
   ]
  },
  {
   "cell_type": "code",
   "execution_count": 7,
   "metadata": {},
   "outputs": [],
   "source": [
    "bg.set_background_color(1., 0., 0.)\n"
   ]
  },
  {
   "cell_type": "code",
   "execution_count": 10,
   "metadata": {},
   "outputs": [],
   "source": [
    "bg.empty()\n",
    "bg.draw(myCurve)"
   ]
  }
 ],
 "metadata": {
  "interpreter": {
   "hash": "ee89ee271897de027553fbfe369681a9ef18f267a63e009eee6ae1ef648b5ddb"
  },
  "kernelspec": {
   "display_name": "Python 3.9.7 64-bit ('.venv': venv)",
   "language": "python",
   "name": "python3"
  },
  "language_info": {
   "codemirror_mode": {
    "name": "ipython",
    "version": 3
   },
   "file_extension": ".py",
   "mimetype": "text/x-python",
   "name": "python",
   "nbconvert_exporter": "python",
   "pygments_lexer": "ipython3",
   "version": "3.9.10"
  },
  "orig_nbformat": 4
 },
 "nbformat": 4,
 "nbformat_minor": 2
}
