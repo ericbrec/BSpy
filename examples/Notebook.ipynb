{
 "cells": [
  {
   "cell_type": "code",
   "execution_count": 1,
   "metadata": {},
   "outputs": [],
   "source": [
    "import os, sys\n",
    "projectDir = os.path.abspath('..')\n",
    "if not projectDir in sys.path: sys.path.append(projectDir)\n",
    "import numpy as np\n",
    "from bspy import Spline, DrawableSpline, bspyGraphics\n",
    "\n",
    "bg = bspyGraphics()\n",
    "spline = Spline.load(\"C:/Users/ericb/OneDrive/Desktop/TomsNasty.npz\", DrawableSpline)\n",
    "bg.add_spline(spline)"
   ]
  },
  {
   "cell_type": "code",
   "execution_count": 2,
   "metadata": {},
   "outputs": [],
   "source": [
    "spline.SetFillColor(1., 1, 0)\n",
    "bg.set_background_color(1., 1., 1.)\n"
   ]
  },
  {
   "cell_type": "code",
   "execution_count": 3,
   "metadata": {},
   "outputs": [],
   "source": [
    "bg.draw(spline)"
   ]
  },
  {
   "cell_type": "code",
   "execution_count": 4,
   "metadata": {},
   "outputs": [],
   "source": [
    "bg.empty()\n",
    "bg.draw(spline)"
   ]
  }
 ],
 "metadata": {
  "interpreter": {
   "hash": "ee89ee271897de027553fbfe369681a9ef18f267a63e009eee6ae1ef648b5ddb"
  },
  "kernelspec": {
   "display_name": "Python 3.9.7 64-bit ('.venv': venv)",
   "language": "python",
   "name": "python3"
  },
  "language_info": {
   "codemirror_mode": {
    "name": "ipython",
    "version": 3
   },
   "file_extension": ".py",
   "mimetype": "text/x-python",
   "name": "python",
   "nbconvert_exporter": "python",
   "pygments_lexer": "ipython3",
   "version": "3.9.10"
  },
  "orig_nbformat": 4
 },
 "nbformat": 4,
 "nbformat_minor": 2
}
