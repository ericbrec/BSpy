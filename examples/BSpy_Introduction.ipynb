{
 "cells": [
  {
   "cell_type": "markdown",
   "metadata": {
    "slideshow": {
     "slide_type": "slide"
    }
   },
   "source": [
    "# An Introduction to BSpy\n",
    "\n",
    "* Dr. Eric Brechner, Ally for Onlys in Tech\n",
    "* Dr. Thomas Grandine, University of Washington"
   ]
  },
  {
   "cell_type": "code",
   "execution_count": null,
   "metadata": {
    "slideshow": {
     "slide_type": "slide"
    }
   },
   "outputs": [],
   "source": [
    "import numpy as np\n",
    "import scipy as sp\n",
    "import matplotlib.pyplot as plt\n",
    "from matplotlib import animation, rc\n",
    "from IPython.display import HTML\n",
    "%matplotlib inline\n",
    "import bspy"
   ]
  },
  {
   "cell_type": "markdown",
   "metadata": {
    "jp-MarkdownHeadingCollapsed": true,
    "slideshow": {
     "slide_type": "slide"
    }
   },
   "source": [
    "# Instead of polynomials, let's use piecewise polynomials\n",
    "\n",
    "* Piecewise polynomial functions are often called **splines**.\n",
    "    * Allows for higher dimension function spaces without high degree polynomials\n",
    "    * Supports local refinement\n",
    "* Everyone knows at least one spline function\n",
    "\n",
    "$$|x|=\\begin{cases}\\begin{matrix}-x\\qquad\\hbox{for }x<0\\cr x\\qquad\\hbox{for }x\\ge 0\\cr\\end{matrix}\\end{cases}$$"
   ]
  },
  {
   "cell_type": "markdown",
   "metadata": {
    "slideshow": {
     "slide_type": "slide"
    }
   },
   "source": [
    "# What is the usual spline setup\n",
    "\n",
    "* In general, splines are defined over an interval $[t_0,t_n]$ (the **domain**).\n",
    "* Intermediate points $t_i$ are chosen so that $t_0<t_1<...<t_n$ and the spline function $s$ is the collection of polynomials $p_i$ of degree $k$ satisfying\n",
    "\n",
    "$$s(t) = p_i(t)\\qquad\\hbox{if }t_i\\le t\\lt t_{i+1}$$\n",
    "\n",
    "* Because the polynomials are tied together at the points $t_i$, those points are usually called **knots**.\n",
    "* Additionally, the polynomials frequently chosen so that the spline function is continuous\n",
    "\n",
    "$$p_{i-1}(t_i)=p_i(t_i)$$\n",
    "\n",
    "* Derivative conditions are also often enforced\n",
    "\n",
    "$$p_{i-1}'(t_i)=p_i'(t_i)$$"
   ]
  },
  {
   "cell_type": "markdown",
   "metadata": {
    "slideshow": {
     "slide_type": "slide"
    }
   },
   "source": [
    "# B-splines form a basis for a function space of splines\n",
    "\n",
    "* Any spline function $s$ can be written as a linear combination of B-splines\n",
    "\n",
    "$$s(t)=\\sum_{i=0}^n\\alpha_iB_i(t)$$\n",
    "\n",
    "* The basis functions $B_i$ are determined by\n",
    "    * The polynomial degree of the polynomials\n",
    "    * The knots of the spline\n",
    "    * The continuity conditions across the knots"
   ]
  },
  {
   "cell_type": "code",
   "execution_count": null,
   "metadata": {
    "slideshow": {
     "slide_type": "slide"
    }
   },
   "outputs": [],
   "source": [
    "# The `Spline` constructor is the most basic method in BSpy\n",
    "\n",
    "b2 = bspy.Spline(1,      # <== Number of independent variables\n",
    "                 1,      # <== Number of dependent variables\n",
    "                 [3],    # <== Polynomial order in each independent variable\n",
    "                 [5],    # <== Number of B-splines in each independent variable\n",
    "                 [[0.0, 0.0, 0.0, 0.3, 0.7, 1.0, 1.0, 1.0]],    # <== Knot sequence in each independent variable\n",
    "                 [[0.0, 0.0, 1.0, 0.0, 0.0]])    # <== B-spline coefficients in each dependent variable\n",
    "tValues = np.linspace(0.0, 1.0, 101)\n",
    "plt.plot(tValues, b2(tValues))      # The __call__ method supports function evaluation and numpy ufuncs\n",
    "plt.plot([0.3, 0.3], [-0.1, 0.8], 'g', linestyle = ':')\n",
    "plt.plot([0.7, 0.7], [-0.1, 0.8], 'g', linestyle = ':')\n",
    "plt.axis('equal')"
   ]
  },
  {
   "cell_type": "code",
   "execution_count": null,
   "metadata": {
    "scrolled": true,
    "slideshow": {
     "slide_type": "slide"
    }
   },
   "outputs": [],
   "source": [
    "bi = bspy.Spline(1, 1, [3], [5], [[0.0, 0.0, 0.0, 0.3, 0.7, 1.0, 1.0, 1.0]], [[0.0, 0.0, 0.0, 0.0, 0.0]])\n",
    "for i in range(bi.nCoef[0]):\n",
    "    bi.coefs[0][i] = 1.0\n",
    "    plt.plot(tValues, bi(tValues))\n",
    "    bi.coefs[0][i] = 0.0\n",
    "plt.plot([0.3, 0.3], [-0.1, 1.0], 'g', linestyle = ':')\n",
    "plt.plot([0.7, 0.7], [-0.1, 1.0], 'g', linestyle = ':')\n",
    "plt.axis('equal')"
   ]
  },
  {
   "cell_type": "markdown",
   "metadata": {
    "slideshow": {
     "slide_type": "slide"
    }
   },
   "source": [
    "# BSpy is designed to work in any dimension\n",
    "\n",
    "* Points can be represented as zero dimensional splines (i.e. with 0 independent variables)\n",
    "* Curves can be represented as one dimensional splines\n",
    "* Surfaces can be represented as two dimensional splines\n",
    "* Volumetric solids can be represented as three dimensional splines"
   ]
  },
  {
   "cell_type": "code",
   "execution_count": null,
   "metadata": {
    "slideshow": {
     "slide_type": "slide"
    }
   },
   "outputs": [],
   "source": [
    "# BSpy is also designed to work seamlessly with numpy, scipy, and matplotlib\n",
    "\n",
    "myPoint = bspy.Spline.point([1.0, 2.0, 3.0])\n",
    "myPoint()"
   ]
  },
  {
   "cell_type": "code",
   "execution_count": null,
   "metadata": {
    "slideshow": {
     "slide_type": "slide"
    }
   },
   "outputs": [],
   "source": [
    "# Basic fitting can be accomplished with the `least_squares` method\n",
    "\n",
    "def myFunction(t):\n",
    "    return 1.0 + 0.25 * np.cos(6.0 * np.pi * t)\n",
    "tValues = np.linspace(0.0, 1.0, 51)\n",
    "xValues = [[myFunction(t) for t in tValues]]\n",
    "mySpline = bspy.Spline.least_squares(tValues, xValues, tolerance = 0.001)\n",
    "print(mySpline)"
   ]
  },
  {
   "cell_type": "code",
   "execution_count": null,
   "metadata": {
    "slideshow": {
     "slide_type": "slide"
    }
   },
   "outputs": [],
   "source": [
    "tPlot = np.linspace(0.0, 1.0, 201)\n",
    "xPlot = mySpline(tPlot)\n",
    "knots = mySpline.knots[0][mySpline.order[0] : -mySpline.order[0]]\n",
    "kPlot = mySpline(knots)\n",
    "plt.plot(tPlot, xPlot)\n",
    "plt.plot(tValues, xValues[0], 'g', marker = 'o', markersize = 5, linestyle = \"\")\n",
    "plt.plot(knots, kPlot, 'r', marker = '+', markersize = 5, linestyle = \"\")"
   ]
  },
  {
   "cell_type": "code",
   "execution_count": null,
   "metadata": {},
   "outputs": [],
   "source": [
    "# mySpline is a function, so it can be evaluated\n",
    "\n",
    "print(mySpline(0.1218))\n",
    "\n",
    "# Other operations can be performed\n",
    "\n",
    "myDerivative = mySpline.differentiate()\n",
    "print(myDerivative)"
   ]
  },
  {
   "cell_type": "code",
   "execution_count": null,
   "metadata": {
    "slideshow": {
     "slide_type": "slide"
    }
   },
   "outputs": [],
   "source": [
    "# Spline arithmetic is supported\n",
    "\n",
    "myCurve = mySpline * bspy.Spline.circular_arc(1.0, 90.0)\n",
    "xPlot, yPlot = myCurve(tPlot)\n",
    "plt.plot(xPlot, yPlot)\n",
    "plt.axis('equal')"
   ]
  },
  {
   "cell_type": "code",
   "execution_count": null,
   "metadata": {
    "slideshow": {
     "slide_type": "slide"
    }
   },
   "outputs": [],
   "source": [
    "flower = myCurve.revolve(360.0)\n",
    "viewer = bspy.Viewer()\n",
    "viewer.draw(flower, 'flower')\n",
    "viewer.mainloop()"
   ]
  },
  {
   "cell_type": "markdown",
   "metadata": {},
   "source": [
    "# The BSpy `section` method is shape preserving\n",
    "\n",
    "* Given two points $(x_i, y_i, \\theta_i, \\kappa_i),\\quad i = 0, 1$, fit a parametric quartic polynomial curve that interpolates the data\n",
    "\n",
    "$$\\begin{align}\n",
    "x(0) &= x_0\\cr\n",
    "y(0) &= y_0\\cr\n",
    "\\begin{pmatrix}x'(0)\\cr y'(0)\\cr\\end{pmatrix}\\times\\begin{pmatrix}\\cos\\theta_0\\cr \\sin\\theta_0\\cr\\end{pmatrix} &= 0\\cr\n",
    "\\kappa(0) &= \\kappa_0\\cr\n",
    "x(1) &= x_1\\cr\n",
    "y(1) &= y_1\\cr\n",
    "\\begin{pmatrix}x'(1)\\cr y'(1)\\cr\\end{pmatrix}\\times\\begin{pmatrix}\\cos\\theta_1\\cr \\sin\\theta_1\\cr\\end{pmatrix} &= 0\\cr\n",
    "\\kappa(1) &= \\kappa_1\\cr\n",
    "\\end{align}$$\n",
    "\n",
    "* Splines can be constructed by stitching together the polynomial pieces\n",
    "* The `section` method accepts sequences of $n$ points\n",
    "* The method is $O(h^6)$ in general, $O(h^8)$ for conic section data"
   ]
  },
  {
   "cell_type": "code",
   "execution_count": null,
   "metadata": {
    "slideshow": {
     "slide_type": "slide"
    }
   },
   "outputs": [],
   "source": [
    "outerSection = bspy.Spline.section([[1.3, 0.0, 90.0, 1.0], [0.3, 1.0, 180.0, 5.0]])\n",
    "innerSection = bspy.Spline.section([[1.0, 0.0, 90.0, 0.1], [0.3, 0.5, 180.0, 0.2]])\n",
    "xOuter, yOuter = outerSection(tPlot)\n",
    "xInner, yInner = innerSection(tPlot)\n",
    "plt.plot(xOuter, yOuter, color = 'b')\n",
    "plt.plot(xInner, yInner, color = 'b')\n",
    "plt.axis('equal')"
   ]
  },
  {
   "cell_type": "code",
   "execution_count": null,
   "metadata": {
    "slideshow": {
     "slide_type": "slide"
    }
   },
   "outputs": [],
   "source": [
    "region2D = bspy.Spline.ruled_surface(outerSection, innerSection)\n",
    "viewer = bspy.Viewer()\n",
    "viewer.draw(region2D, 'region2D')\n",
    "viewer.mainloop()"
   ]
  },
  {
   "cell_type": "code",
   "execution_count": null,
   "metadata": {
    "slideshow": {
     "slide_type": "slide"
    }
   },
   "outputs": [],
   "source": [
    "sweptVolume = region2D.revolve(120.0)\n",
    "viewer = bspy.Viewer()\n",
    "viewer.draw(sweptVolume, 'sweptVolume')\n",
    "viewer.mainloop()"
   ]
  },
  {
   "cell_type": "markdown",
   "metadata": {},
   "source": [
    "# It's useful to be able to evaluate this integral\n",
    "\n",
    "$$\\int_\\Omega f(x(u)){dV\\over du}du$$\n",
    "\n",
    "* $x$ is a tensor product spline defined over a domain $\\Omega$\n",
    "* $dV\\over du$ is the volume measure of the spline\n",
    "* $f$ is a given, smooth, black box function"
   ]
  },
  {
   "cell_type": "code",
   "execution_count": null,
   "metadata": {},
   "outputs": [],
   "source": [
    "sweptVolume.composed_integral()"
   ]
  },
  {
   "cell_type": "markdown",
   "metadata": {
    "slideshow": {
     "slide_type": "slide"
    }
   },
   "source": [
    "# Many interesting problems can be solved with contouring\n",
    "\n",
    "* Consider\n",
    "\n",
    "$$f:\\mathbb{R}^n\\to\\mathbb{R}^{n-1}$$\n",
    "\n",
    "* Want to solve\n",
    "\n",
    "$$f(x)=0$$\n",
    "\n",
    "* Typically has a one parameter family of solutions\n",
    "* Want to find a mapping\n",
    "\n",
    "$$x:[0,1]\\to\\mathbb{R}^n$$\n",
    "\n",
    "* The problem is typically not well-posed\n",
    "\n",
    "$$f(x(t))=0\\quad\\hbox{implies}\\quad f(x(t^2))=0$$"
   ]
  },
  {
   "cell_type": "markdown",
   "metadata": {
    "slideshow": {
     "slide_type": "slide"
    }
   },
   "source": [
    "# The problem can be made well-posed\n",
    "\n",
    "* Need to solve\n",
    "\n",
    "$$\\begin{align}\n",
    "f(x)&=0\\cr\n",
    "x'\\cdot x''&=0\\cr\n",
    "\\end{align}$$"
   ]
  },
  {
   "cell_type": "code",
   "execution_count": null,
   "metadata": {
    "slideshow": {
     "slide_type": "slide"
    }
   },
   "outputs": [],
   "source": [
    "section1 = bspy.Spline.section([[0.0, 0.0, 75.0, -50.0], [1.0, 0.0, -85.0, -30.0]])\n",
    "xPlot, yPlot = section1(tPlot)\n",
    "plt.plot(xPlot, yPlot)\n",
    "plt.axis(\"equal\")"
   ]
  },
  {
   "cell_type": "code",
   "execution_count": null,
   "metadata": {
    "slideshow": {
     "slide_type": "slide"
    }
   },
   "outputs": [],
   "source": [
    "section2 = bspy.Spline.section([[1.0, 0.0, 75.0, -0.1], [1.5, 0.0, -85.0, -0.1]])\n",
    "print(section2)\n",
    "xPlot, yPlot = section2(tPlot)\n",
    "plt.plot(xPlot, yPlot)\n",
    "plt.axis(\"equal\")"
   ]
  },
  {
   "cell_type": "code",
   "execution_count": null,
   "metadata": {
    "slideshow": {
     "slide_type": "slide"
    }
   },
   "outputs": [],
   "source": [
    "section1_3D = [[1.0, 0.0], [0.0, 0.0], [0.0, 1.0]] @ section1\n",
    "section2_3D = [[1.0, 0.0], [0.0, 0.0], [0.0, 1.0]] @ section2 + [0.0, 1.0, 0.0]\n",
    "ruled = bspy.Spline.ruled_surface(section1_3D, section2_3D)\n",
    "viewer = bspy.Viewer()\n",
    "viewer.draw(ruled, 'ruled')\n",
    "viewer.mainloop()"
   ]
  },
  {
   "cell_type": "code",
   "execution_count": null,
   "metadata": {
    "slideshow": {
     "slide_type": "slide"
    }
   },
   "outputs": [],
   "source": [
    "cValues = np.linspace(0.0, 1.0, 41)\n",
    "curvatures = np.array([ruled.curvature([u, v]) for u in cValues for v in cValues])\n",
    "print(np.min(curvatures), np.max(curvatures))"
   ]
  },
  {
   "cell_type": "markdown",
   "metadata": {
    "slideshow": {
     "slide_type": "slide"
    }
   },
   "source": [
    "# Developable surfaces can be created with contouring\n",
    "\n",
    "* Need to have $c_1'(u)$, $c_2'(v)$, $c_1(u)-c_2(v)$ be coplanar for all values of $u$ and $v$\n",
    "* This can be achieved by solving\n",
    "\n",
    "$$\\det\\left|c_1'(u)\\quad c_2'(v)\\quad c_1(u)-c_2(v)\\right|=0$$\n",
    "\n",
    "* This can be rewritten as\n",
    "\n",
    "$$c_1'(u)\\times c_2'(v)\\cdot(c_1(u)-c_2(v))=0$$"
   ]
  },
  {
   "cell_type": "code",
   "execution_count": null,
   "metadata": {
    "slideshow": {
     "slide_type": "slide"
    }
   },
   "outputs": [],
   "source": [
    "section1_tan = section1_3D.differentiate()\n",
    "section2_tan = section2_3D.differentiate()\n",
    "s1xs2 = section1_tan.multiply(section2_tan, productType = 'C')\n",
    "s1ms2 = section1_3D.subtract(section2_3D)\n",
    "determinant = s1xs2 @ s1ms2\n",
    "print(determinant)"
   ]
  },
  {
   "cell_type": "code",
   "execution_count": null,
   "metadata": {
    "slideshow": {
     "slide_type": "slide"
    }
   },
   "outputs": [],
   "source": [
    "[u1u2] = determinant.contours()\n",
    "u1, u2 = u1u2(tPlot)\n",
    "plt.plot(u1, u2)\n",
    "plt.axis('equal')"
   ]
  },
  {
   "cell_type": "code",
   "execution_count": null,
   "metadata": {
    "slideshow": {
     "slide_type": "slide"
    }
   },
   "outputs": [],
   "source": [
    "u1Fit, u2Fit = u1u2(tValues)\n",
    "rulings = [bspy.Spline.line(section1_3D(u1), section2_3D(u2)) for u1, u2 in zip(u1Fit, u2Fit)]\n",
    "viewer = bspy.Viewer()\n",
    "for ruling in rulings:\n",
    "    viewer.draw(ruling)\n",
    "viewer.mainloop()"
   ]
  },
  {
   "cell_type": "code",
   "execution_count": null,
   "metadata": {
    "slideshow": {
     "slide_type": "slide"
    }
   },
   "outputs": [],
   "source": [
    "developable = bspy.Spline.least_squares(tValues, rulings, compression = 0.25).transpose()\n",
    "viewer = bspy.Viewer()\n",
    "viewer.set_fill_color(developable, 0.1, 0.3, 0.9)\n",
    "viewer.draw(developable, 'developable')\n",
    "viewer.mainloop()"
   ]
  },
  {
   "cell_type": "code",
   "execution_count": null,
   "metadata": {
    "slideshow": {
     "slide_type": "slide"
    }
   },
   "outputs": [],
   "source": [
    "blob = bspy.Spline.section([[1.0, 0.0, 90.0, 0.2], [0.0, 1.0, 180.0, 0.2], [-0.5, 0.5, 320.0, 0.0],\n",
    "                            [-0.5, -0.5, 220.0, 0.0], [0.0, -1.0, 0.0, 5.0], [1.0, 0.0, 90.0, 0.2]])\n",
    "xBlob, yBlob = blob(tPlot)\n",
    "plt.plot(xBlob, yBlob)\n",
    "plt.axis('equal')"
   ]
  },
  {
   "cell_type": "code",
   "execution_count": null,
   "metadata": {},
   "outputs": [],
   "source": [
    "trajectory = bspy.Spline(1, 2, [4], [4], [[0.0, 0.0, 0.0, 0.0, 1.0, 1.0, 1.0, 1.0]],\n",
    "                         [[0.0, 0.0], [0.0, 1.5], [2.0, 1.0], [2.0, 2.0]])\n",
    "xT, yT = trajectory(tPlot)\n",
    "plt.plot(xT, yT)\n",
    "plt.plot('equal')"
   ]
  },
  {
   "cell_type": "code",
   "execution_count": null,
   "metadata": {
    "slideshow": {
     "slide_type": "slide"
    }
   },
   "outputs": [],
   "source": [
    "fig, ax = plt.subplots()\n",
    "ax.set_xlim((-1, 3.5))\n",
    "ax.set_ylim((-1, 3.5))\n",
    "line, = ax.plot([], [], lw=2)\n",
    "ax.plot(xT, yT)\n",
    "\n",
    "# initialization function: plot the background of each frame\n",
    "\n",
    "def init():\n",
    "    line.set_data([], [])\n",
    "    return (line,)\n",
    "\n",
    "# animation function. This is called sequentially\n",
    "\n",
    "def animate(i):\n",
    "    xPlot = xBlob + xT[i]\n",
    "    yPlot = yBlob + yT[i]\n",
    "    line.set_data(xPlot, yPlot)\n",
    "    return (line,)\n",
    "\n",
    "# call the animator. blit=True means only re-draw the parts that have changed.\n",
    "\n",
    "anim = animation.FuncAnimation(fig, animate, init_func=init,\n",
    "                               frames=201, interval=20, blit=True)\n",
    "HTML(anim.to_html5_video())"
   ]
  },
  {
   "cell_type": "code",
   "execution_count": null,
   "metadata": {},
   "outputs": [],
   "source": [
    "blob_u = blob.differentiate()\n",
    "blob_t = trajectory.differentiate()\n",
    "blob_tangents = blob_u.multiply(blob_t, productType = 'C')\n",
    "envelopes = []\n",
    "for ut in blob_tangents.contours():\n",
    "    uValues, timeValues = ut(tPlot)\n",
    "    envelopes.append(np.array([blob(uValue) + trajectory(timeValue) for uValue, timeValue in zip(uValues, timeValues)]).T)"
   ]
  },
  {
   "cell_type": "code",
   "execution_count": null,
   "metadata": {
    "slideshow": {
     "slide_type": "slide"
    }
   },
   "outputs": [],
   "source": [
    "fig, ax = plt.subplots()\n",
    "ax.set_xlim((-1, 3.5))\n",
    "ax.set_ylim((-1, 3.5))\n",
    "line, = ax.plot([], [], lw=2)\n",
    "for envelope in envelopes:\n",
    "    ax.plot(*envelope)\n",
    "\n",
    "# initialization function: plot the background of each frame\n",
    "\n",
    "def init():\n",
    "    line.set_data([], [])\n",
    "    return (line,)\n",
    "\n",
    "# animation function. This is called sequentially\n",
    "\n",
    "def animate(i):\n",
    "    xPlot = xBlob + xT[i]\n",
    "    yPlot = yBlob + yT[i]\n",
    "    line.set_data(xPlot, yPlot)\n",
    "    return (line,)\n",
    "\n",
    "# call the animator. blit=True means only re-draw the parts that have changed.\n",
    "\n",
    "anim = animation.FuncAnimation(fig, animate, init_func=init,\n",
    "                               frames=201, interval=20, blit=True)\n",
    "HTML(anim.to_html5_video())"
   ]
  },
  {
   "cell_type": "code",
   "execution_count": null,
   "metadata": {},
   "outputs": [],
   "source": [
    "# The `Spline` class has many methods, with more to come\n",
    "\n",
    "dir(bspy.Spline)"
   ]
  },
  {
   "cell_type": "markdown",
   "metadata": {},
   "source": [
    "# A great many things remain to be done\n",
    "\n",
    "* Enable `least_squares` to accept black box functions as input\n",
    "* STEP and IGES file support\n",
    "* Mass properties for B-rep solids\n",
    "* Multivariate finite elements\n",
    "* NC machining tool path creation\n",
    "* Support for 3D printing\n",
    "* Explore and exploit the `SplineBlock` object\n",
    "* ***Encourage others to enrich BSpy with their own contributions***"
   ]
  }
 ],
 "metadata": {
  "anaconda-cloud": {},
  "celltoolbar": "Slideshow",
  "kernelspec": {
   "display_name": "Python 3 (ipykernel)",
   "language": "python",
   "name": "python3"
  },
  "language_info": {
   "codemirror_mode": {
    "name": "ipython",
    "version": 3
   },
   "file_extension": ".py",
   "mimetype": "text/x-python",
   "name": "python",
   "nbconvert_exporter": "python",
   "pygments_lexer": "ipython3",
   "version": "3.11.9"
  }
 },
 "nbformat": 4,
 "nbformat_minor": 4
}
