{
 "cells": [
  {
   "cell_type": "code",
   "execution_count": 1,
   "metadata": {},
   "outputs": [],
   "source": [
    "import os, sys\n",
    "projectDir = os.path.abspath('..')\n",
    "if not projectDir in sys.path: sys.path.append(projectDir)\n",
    "import matplotlib.pyplot as plt\n",
    "import numpy as np\n",
    "import scipy as sp\n",
    "import bspy"
   ]
  },
  {
   "cell_type": "markdown",
   "metadata": {},
   "source": [
    "# The geodesic equations\n",
    "\n",
    "$$\\begin{align}u''+\\Gamma_{uu}^u(u')^2+2\\Gamma_{uv}^uu'v'+\\Gamma_{vv}^u(v')^2&=0\\cr\n",
    "v''+\\Gamma_{uu}^v(u')^2+2\\Gamma_{uv}^vu'v'+\\Gamma_{vv}^v(v')^2&=0\\cr\\end{align}$$\n",
    "\n",
    "The Christoffel symbols $\\Gamma_{ij}^k$ can be computed in terms of the first fundamental form and the derivatives of the surface map $S$\n",
    "\n",
    "$$\\begin{align}E=S_u\\cdot S_u\\cr\n",
    "F=S_u\\cdot S_v\\cr\n",
    "G=S_v\\cdot S_v\\cr\\end{align}$$\n",
    "\n",
    "Pairwise, the Christoffel symbols satisfy\n",
    "\n",
    "$$\\begin{align}\\begin{pmatrix}E & F\\cr F & G\\cr\\end{pmatrix}\n",
    "\\begin{pmatrix}\\Gamma_{uu}^u\\cr \\Gamma_{uu}^v\\cr\\end{pmatrix} &=\n",
    "\\begin{pmatrix}S_{uu}\\cdot S_u\\cr S_{uu}\\cdot S_v\\end{pmatrix}\\cr\n",
    "\\begin{pmatrix}E & F\\cr F & G\\cr\\end{pmatrix}\n",
    "\\begin{pmatrix}\\Gamma_{uv}^u\\cr \\Gamma_{uv}^v\\cr\\end{pmatrix} &=\n",
    "\\begin{pmatrix}S_{uv}\\cdot S_u\\cr S_{uv}\\cdot S_v\\end{pmatrix}\\cr\n",
    "\\begin{pmatrix}E & F\\cr F & G\\cr\\end{pmatrix}\n",
    "\\begin{pmatrix}\\Gamma_{vv}^u\\cr \\Gamma_{vv}^v\\cr\\end{pmatrix} &=\n",
    "\\begin{pmatrix}S_{vv}\\cdot S_u\\cr S_{vv}\\cdot S_v\\end{pmatrix}\\cr\n",
    "\\end{align}$$\n",
    "\n",
    "All of these systems are of the form\n",
    "\n",
    "$$A\\Gamma=R$$\n",
    "\n",
    "The derivatives of the Christoffel symbols with respect to $u$ can be computed by taking the derivative\n",
    "of this equation\n",
    "\n",
    "$$A_u\\Gamma + A\\Gamma_u=R_u$$\n",
    "\n",
    "That means $\\Gamma_u$ can be computed by solving\n",
    "\n",
    "$$A\\Gamma_u=R_u-A_u\\Gamma$$"
   ]
  }
 ],
 "metadata": {
  "interpreter": {
   "hash": "ee89ee271897de027553fbfe369681a9ef18f267a63e009eee6ae1ef648b5ddb"
  },
  "kernelspec": {
   "display_name": "Python 3.9.7 64-bit ('.venv': venv)",
   "language": "python",
   "name": "python3"
  },
  "language_info": {
   "codemirror_mode": {
    "name": "ipython",
    "version": 3
   },
   "file_extension": ".py",
   "mimetype": "text/x-python",
   "name": "python",
   "nbconvert_exporter": "python",
   "pygments_lexer": "ipython3",
   "version": "3.11.8"
  },
  "orig_nbformat": 4
 },
 "nbformat": 4,
 "nbformat_minor": 2
}
