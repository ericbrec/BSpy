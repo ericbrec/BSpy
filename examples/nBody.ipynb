{
 "cells": [
  {
   "cell_type": "code",
   "execution_count": null,
   "metadata": {},
   "outputs": [],
   "source": [
    "import os, sys\n",
    "projectDir = os.path.abspath('..')\n",
    "if not projectDir in sys.path: sys.path.append(projectDir)\n",
    "import matplotlib.pyplot as plt\n",
    "import numpy as np\n",
    "import scipy\n",
    "import bspy"
   ]
  },
  {
   "cell_type": "markdown",
   "metadata": {},
   "source": [
    "# The $n$-body equations are a 2nd order system of ODEs\n",
    "\n",
    "$$m_ix_i'' = \\sum_{j\\ne i}f_{ij}(x_j-x_i)/r_{ij},\\qquad i=1,...,n$$\n",
    "\n",
    "where\n",
    "\n",
    "$$f_{ij}={Gm_im_j\\over r_{ij}^2},\\qquad\\hbox{with } r_{ij}=\\|x_i-x_j\\|$$\n",
    "\n",
    "With the masses given in kilograms and the distances in kilometers, the appropriate value of $G$ is\n",
    "\n",
    "$$G=8.6443\\times 10^{-13}{\\hbox{km}^3\\over\\hbox{hour}^2\\hbox{kg}}$$\n",
    "\n",
    "This can be rewritten in a simpler form\n",
    "\n",
    "$$x_i'' = \\sum_{j\\ne i}g_{ij}(x_j-x_i),\\qquad i = 1, ..., n$$\n",
    "\n",
    "where\n",
    "\n",
    "$$g_{ij}={Gm_j\\over r_{ij}^3},\\qquad\\hbox{with } r_{ij}=\\|x_i-x_j\\|$$"
   ]
  },
  {
   "cell_type": "code",
   "execution_count": null,
   "metadata": {},
   "outputs": [],
   "source": [
    "def nBodyF(t, u, nBody, nDim, mass):\n",
    "    G = 8.6443e-13\n",
    "    nState = nDim * nBody\n",
    "    rhs = np.zeros((nState,))\n",
    "    jacobian = np.zeros((nState, nState, 2))\n",
    "    for iBody in range(nBody):\n",
    "        bodySlice = slice(iBody * nDim, (iBody + 1) * nDim)\n",
    "        for iTerm in range(nBody):\n",
    "            if iBody == iTerm:\n",
    "                continue\n",
    "            termSlice = slice(iTerm * nDim, (iTerm + 1) * nDim)\n",
    "            direction_ij = u[termSlice, 0] - u[bodySlice, 0]\n",
    "            rij = (direction_ij @ direction_ij) ** 0.5\n",
    "            gij = G * mass[iTerm] / rij ** 3\n",
    "            gijPrime = 3.0 * gij / rij ** 2\n",
    "            rhs[bodySlice] += gij * direction_ij\n",
    "            jacobian[bodySlice, bodySlice, 0] -= gij * np.identity(nDim)\n",
    "            jacobian[bodySlice, termSlice, 0] += gij * np.identity(nDim)\n",
    "            jacobian[bodySlice, bodySlice, 0] += gijPrime * direction_ij * direction_ij\n",
    "            jacobian[bodySlice, termSlice, 0] -= gijPrime * direction_ij * direction_ij\n",
    "    return rhs, jacobian"
   ]
  },
  {
   "cell_type": "code",
   "execution_count": null,
   "metadata": {},
   "outputs": [],
   "source": [
    "nBody = 2\n",
    "nDim = 1\n",
    "mass = np.array([3.0e+19, 1.0e+19])\n",
    "finalTime = 4.0\n",
    "mass = np.array([3.0e+19, 1.0e+19])\n",
    "u = [0.0, 0.0, finalTime, finalTime]\n",
    "data = np.array([[100.0, 900.0], [0.0, 0.0],\n",
    "                 [900.0, 100.0], [0.0, 0.0]]).T\n",
    "initialGuess = bspy.Spline.least_squares(u, data)\n",
    "solution = initialGuess.solve_ode(2, 0, nBodyF, 1.0e-4, (nBody, nDim, mass))"
   ]
  },
  {
   "cell_type": "code",
   "execution_count": null,
   "metadata": {},
   "outputs": [],
   "source": [
    "pValues = np.linspace(0.0, 4.0, 5)\n",
    "tValues = np.linspace(pValues[0], pValues[-1], 101)\n",
    "x1Points, x2Points = solution(pValues)\n",
    "x1Values, x2Values = solution(tValues)\n",
    "plt.plot(x1Points, np.zeros(len(x1Points)), 'b', marker = 'o', markersize = 8, linestyle = \"\")\n",
    "plt.plot(x2Points, np.zeros(len(x2Points)), 'b', marker = 'o', markersize = 5, linestyle = \"\")\n",
    "plt.plot(x1Values, np.zeros(len(x1Values)), 'g')\n",
    "plt.plot(x2Values, np.zeros(len(x2Values)), 'g')\n",
    "plt.axis('equal')"
   ]
  },
  {
   "cell_type": "code",
   "execution_count": null,
   "metadata": {},
   "outputs": [],
   "source": [
    "nBody = 2\n",
    "nDim = 2\n",
    "mass = np.array([3.0e+19, 1.0e+19])\n",
    "finalTime = 10.0\n",
    "mass = np.array([3.0e+19, 1.0e+19])\n",
    "u = [0.0, 0.0, finalTime, finalTime]\n",
    "data = np.array([[100.0, 0.0, 900.0, 900.0], [0.0, 100.0, 0.0, -100.0],\n",
    "                 [900.0, 100.0, 0.0, 0.0], [0.0, 0.0, 0.0, 0.0]]).T\n",
    "initialGuess = bspy.Spline.least_squares(u, data)\n",
    "solution = initialGuess.solve_ode(2, 0, nBodyF, 1.0e-4, (nBody, nDim, mass))\n",
    "print(solution(0.0), solution.derivative([1], [0.0]))"
   ]
  },
  {
   "cell_type": "code",
   "execution_count": null,
   "metadata": {},
   "outputs": [],
   "source": [
    "pValues = np.linspace(0.0, finalTime, int(finalTime) + 1)\n",
    "tValues = np.linspace(pValues[0], pValues[-1], 101)\n",
    "x1P, y1P, x2P, y2P = solution(pValues)\n",
    "x1, y1, x2, y2 = solution(tValues)\n",
    "plt.plot(x1P, y1P, 'b', marker = 'o', markersize = 8, linestyle = \"\")\n",
    "plt.plot(x2P, y2P, 'b', marker = 'o', markersize = 5, linestyle = \"\")\n",
    "plt.plot(x1, y1, 'g')\n",
    "plt.plot(x2, y2, 'g')\n",
    "plt.axis('equal')"
   ]
  },
  {
   "cell_type": "code",
   "execution_count": null,
   "metadata": {},
   "outputs": [],
   "source": [
    "finalTime += 5.0\n",
    "initialGuess = solution.extrapolate([[None, finalTime]], 2).remove_knots(0.01, 2, 0)\n",
    "solution = initialGuess.solve_ode(2, 0, nBodyF, 1.0e-4, (nBody, nDim, mass))\n",
    "pValues = np.linspace(0.0, finalTime, 11)\n",
    "tValues = np.linspace(pValues[0], pValues[-1], 201)\n",
    "x1P, y1P, x2P, y2P = solution(pValues)\n",
    "x1, y1, x2, y2 = solution(tValues)\n",
    "plt.plot(x1P, y1P, 'b', marker = 'o', markersize = 8, linestyle = \"\")\n",
    "plt.plot(x2P, y2P, 'b', marker = 'o', markersize = 5, linestyle = \"\")\n",
    "plt.plot(x1, y1, 'g')\n",
    "plt.plot(x2, y2, 'g')\n",
    "plt.axis('equal')"
   ]
  },
  {
   "cell_type": "code",
   "execution_count": null,
   "metadata": {},
   "outputs": [],
   "source": [
    "nBody = 3\n",
    "nDim = 2\n",
    "mass = np.array([3.0e+19, 1.0e+19, 2.0e+19])\n",
    "finalTime = 3.0\n",
    "u = [0.0, 0.0, finalTime, finalTime]\n",
    "data = np.array([[100.0, 100.0, 100.0, 900.0, 900.0, 900.0], [150.0, 0.0, 0.0, -100.0, -40.0, 0.0],\n",
    "                 [300.0, 100.0, 100.0, 700.0, 820.0, 900.0], [150.0, 0.0, 0.0, -100.0, -40.0, 0.0]]).T\n",
    "initialGuess = bspy.Spline.least_squares(u, data)\n",
    "solution = initialGuess.solve_ode(2, 0, nBodyF, 1.0e-4, (nBody, nDim, mass))\n",
    "print(solution.derivative([1], [0.0]))"
   ]
  },
  {
   "cell_type": "code",
   "execution_count": null,
   "metadata": {},
   "outputs": [],
   "source": [
    "pValues = np.linspace(0.0, finalTime, int(finalTime) + 1)\n",
    "tValues = np.linspace(pValues[0], pValues[-1], 101)\n",
    "x1P, y1P, x2P, y2P, x3P, y3P = solution(pValues)\n",
    "x1, y1, x2, y2, x3, y3 = solution(tValues)\n",
    "plt.plot(x1P, y1P, 'b', marker = 'o', markersize = 8, linestyle = \"\")\n",
    "plt.plot(x2P, y2P, 'b', marker = 'o', markersize = 5, linestyle = \"\")\n",
    "plt.plot(x3P, y3P, 'b', marker = 'o', markersize = 6.5, linestyle = \"\")\n",
    "plt.plot(x1, y1, 'g')\n",
    "plt.plot(x2, y2, 'g')\n",
    "plt.plot(x3, y3, 'g')\n",
    "plt.axis('equal')"
   ]
  },
  {
   "cell_type": "code",
   "execution_count": null,
   "metadata": {},
   "outputs": [],
   "source": [
    "finalTime += 0.1\n",
    "print(finalTime)\n",
    "initialGuess = solution.extrapolate([[None, finalTime]], 2).remove_knots(0.01, 2, 0)\n",
    "solution = initialGuess.solve_ode(2, 0, nBodyF, 1.0e-4, (nBody, nDim, mass))\n",
    "pValues = np.linspace(0.0, finalTime, int(finalTime) + 1)\n",
    "tValues = np.linspace(pValues[0], pValues[-1], 101)\n",
    "x1P, y1P, x2P, y2P, x3P, y3P = solution(pValues)\n",
    "x1, y1, x2, y2, x3, y3 = solution(tValues)\n",
    "plt.plot(x1P, y1P, 'b', marker = 'o', markersize = 8, linestyle = \"\")\n",
    "plt.plot(x2P, y2P, 'b', marker = 'o', markersize = 5, linestyle = \"\")\n",
    "plt.plot(x3P, y3P, 'b', marker = 'o', markersize = 6.5, linestyle = \"\")\n",
    "plt.plot(x1, y1, 'g')\n",
    "plt.plot(x2, y2, 'g')\n",
    "plt.plot(x3, y3, 'g')\n",
    "plt.axis('equal')"
   ]
  }
 ],
 "metadata": {
  "interpreter": {
   "hash": "ee89ee271897de027553fbfe369681a9ef18f267a63e009eee6ae1ef648b5ddb"
  },
  "kernelspec": {
   "display_name": "Python 3.9.7 64-bit ('.venv': venv)",
   "language": "python",
   "name": "python3"
  },
  "language_info": {
   "codemirror_mode": {
    "name": "ipython",
    "version": 3
   },
   "file_extension": ".py",
   "mimetype": "text/x-python",
   "name": "python",
   "nbconvert_exporter": "python",
   "pygments_lexer": "ipython3",
   "version": "3.11.8"
  },
  "orig_nbformat": 4
 },
 "nbformat": 4,
 "nbformat_minor": 2
}
